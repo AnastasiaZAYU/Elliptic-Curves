{
  "nbformat": 4,
  "nbformat_minor": 0,
  "metadata": {
    "colab": {
      "provenance": [],
      "authorship_tag": "ABX9TyN06q73nbufn5okrT7dERmS",
      "include_colab_link": true
    },
    "kernelspec": {
      "name": "python3",
      "display_name": "Python 3"
    },
    "language_info": {
      "name": "python"
    }
  },
  "cells": [
    {
      "cell_type": "markdown",
      "metadata": {
        "id": "view-in-github",
        "colab_type": "text"
      },
      "source": [
        "<a href=\"https://colab.research.google.com/github/AnastasiaZAYU/Elliptic-Curves/blob/main/lab2/EllipticCurves_lab2.ipynb\" target=\"_parent\"><img src=\"https://colab.research.google.com/assets/colab-badge.svg\" alt=\"Open In Colab\"/></a>"
      ]
    },
    {
      "cell_type": "markdown",
      "source": [
        "#Комп'ютерний практикум #2: Реалізація класичних криптосистем на базі еліптичних кривих"
      ],
      "metadata": {
        "id": "Ll94H9iy-hSn"
      }
    },
    {
      "cell_type": "code",
      "source": [
        "!pip install pycryptodome"
      ],
      "metadata": {
        "colab": {
          "base_uri": "https://localhost:8080/"
        },
        "id": "ZxdkncTdOB9n",
        "outputId": "694d54b8-2a61-43ed-edd3-48687519f6a4"
      },
      "execution_count": 1,
      "outputs": [
        {
          "output_type": "stream",
          "name": "stdout",
          "text": [
            "Collecting pycryptodome\n",
            "  Downloading pycryptodome-3.20.0-cp35-abi3-manylinux_2_17_x86_64.manylinux2014_x86_64.whl (2.1 MB)\n",
            "\u001b[2K     \u001b[90m━━━━━━━━━━━━━━━━━━━━━━━━━━━━━━━━━━━━━━━━\u001b[0m \u001b[32m2.1/2.1 MB\u001b[0m \u001b[31m13.1 MB/s\u001b[0m eta \u001b[36m0:00:00\u001b[0m\n",
            "\u001b[?25hInstalling collected packages: pycryptodome\n",
            "Successfully installed pycryptodome-3.20.0\n"
          ]
        }
      ]
    },
    {
      "cell_type": "code",
      "source": [
        "import random\n",
        "import hashlib\n",
        "from Crypto.Cipher import AES\n",
        "from Crypto.Random import get_random_bytes\n",
        "from Crypto.Util.Padding import pad, unpad"
      ],
      "metadata": {
        "id": "4vBKyEAqJM5P"
      },
      "execution_count": 99,
      "outputs": []
    },
    {
      "cell_type": "code",
      "source": [
        "from EllipticCurve import *\n",
        "from CurvePoint import *"
      ],
      "metadata": {
        "id": "Qf5FiixrIhfi"
      },
      "execution_count": 100,
      "outputs": []
    },
    {
      "cell_type": "code",
      "source": [
        "#параметри еліптичної кривої P-224\n",
        "p = '0xffffffffffffffffffffffffffffffff000000000000000000000001'\n",
        "a = '0xfffffffffffffffffffffffffffffffefffffffffffffffffffffffe'\n",
        "b = '0xb4050a850c04b3abf54132565044b0b7d7bfd8ba270b39432355ffb4'\n",
        "n = '0xffffffffffffffffffffffffffff16a2e0b8f03e13dd29455c5c2a3d'\n",
        "\n",
        "curve = EllipticCurve(p, a, b, n)\n",
        "P = CurvePoint(curve, '0xb70e0cbd6bb4bf7f321390b94a03c1d356c21122343280d6115c1d21', '0xbd376388b5f723fb4c22dfe6cd4375a05a07476444d5819985007e34', '0x1')"
      ],
      "metadata": {
        "id": "Jj2OdDTQIkQk"
      },
      "execution_count": 101,
      "outputs": []
    },
    {
      "cell_type": "markdown",
      "source": [
        "### 1. Реалізувати схему ключового обміну Діффі-Геллмана на еліптичних кривих та перевірити коретність узгодження спільного секрету."
      ],
      "metadata": {
        "id": "5z_hAY2V-uYY"
      }
    },
    {
      "cell_type": "code",
      "source": [
        "#генерація відкритого та приватного ключів\n",
        "def generate_keys(P):\n",
        "  d = random.randint(2, int(n, 16))\n",
        "  Q = P.PointMultiply(d)\n",
        "  return d, Q"
      ],
      "metadata": {
        "id": "PfIG95Ey6peT"
      },
      "execution_count": 102,
      "outputs": []
    },
    {
      "cell_type": "code",
      "source": [
        "da, Qa = generate_keys(P) #ключі Аліси\n",
        "db, Qb = generate_keys(P) #ключі Боба"
      ],
      "metadata": {
        "id": "bWDa6gA17l4y"
      },
      "execution_count": 103,
      "outputs": []
    },
    {
      "cell_type": "code",
      "source": [
        "Sb = Qa.PointMultiply(db) #спільний секрет, який обчислив Боб"
      ],
      "metadata": {
        "id": "x7uh1H9bKM0B"
      },
      "execution_count": 104,
      "outputs": []
    },
    {
      "cell_type": "code",
      "source": [
        "Sa = Qb.PointMultiply(da) #спільний секрет, який обчислила Аліса"
      ],
      "metadata": {
        "id": "zd717Fv9KbMv"
      },
      "execution_count": 105,
      "outputs": []
    },
    {
      "cell_type": "code",
      "source": [
        "#перевірка коретності узгодження спільного секрету\n",
        "print(Sb.ComparePoints(Sa))"
      ],
      "metadata": {
        "colab": {
          "base_uri": "https://localhost:8080/"
        },
        "id": "YNZ1dVMqKehQ",
        "outputId": "fb1dfaa3-c517-434b-e5ee-bf51e3aaf4a2"
      },
      "execution_count": 106,
      "outputs": [
        {
          "output_type": "stream",
          "name": "stdout",
          "text": [
            "True\n"
          ]
        }
      ]
    },
    {
      "cell_type": "markdown",
      "source": [
        "### 2. Реалізувати алгоритм направленого шифрування на базі ефемерного ключового обміну Діффі-Геллмана на еліптичних кривих та перевірити коректність, зашифрувавши довільне повідомлення."
      ],
      "metadata": {
        "id": "mMdP0TO4Hdnt"
      }
    },
    {
      "cell_type": "code",
      "source": [
        "#функція шифрування повідомлення\n",
        "def encrypt(M, P, Qb):\n",
        "  k = get_random_bytes(32)\n",
        "  Enc = AES.new(k, AES.MODE_CBC)\n",
        "  Cm = Enc.iv + Enc.encrypt(pad(M, AES.block_size))\n",
        "\n",
        "  ea, Qa = generate_keys(P)\n",
        "  S = Qb.PointMultiply(ea).ToAffine()\n",
        "  Sx = S.X.to_bytes(32, byteorder='big')\n",
        "\n",
        "  Wrap = AES.new(Sx, AES.MODE_CBC)\n",
        "  Ck = Wrap.iv + Wrap.encrypt(pad(k, AES.block_size))\n",
        "\n",
        "  return (Qa, Ck, Cm)"
      ],
      "metadata": {
        "id": "3wPH4APASXVi"
      },
      "execution_count": 107,
      "outputs": []
    },
    {
      "cell_type": "code",
      "source": [
        "#функція розшифрування повідомлення\n",
        "def decrypt(Env, db):\n",
        "  S = Env[0].PointMultiply(db).ToAffine()\n",
        "  Sx = S.X.to_bytes(32, byteorder='big')\n",
        "\n",
        "  Unwrap = AES.new(Sx, AES.MODE_CBC, Env[1][:16])\n",
        "  k = unpad(Unwrap.decrypt(Env[1][16:]), AES.block_size)\n",
        "\n",
        "  Dec = AES.new(k, AES.MODE_CBC, Env[2][:16])\n",
        "  M = unpad(Dec.decrypt(Env[2][16:]), AES.block_size)\n",
        "\n",
        "  return M"
      ],
      "metadata": {
        "id": "mcjwHdiPT3Vu"
      },
      "execution_count": 108,
      "outputs": []
    },
    {
      "cell_type": "code",
      "source": [
        "db, Qb = generate_keys(P) #ключі Боба"
      ],
      "metadata": {
        "id": "LQrbNIoWHpAK"
      },
      "execution_count": 109,
      "outputs": []
    },
    {
      "cell_type": "code",
      "source": [
        "M = b\"The striped hyena is a primarily nocturnal animal, which typically only leaves its den at the onset of total darkness, returning before sunrise. Striped hyenas typically live alone or in pairs, though groups of up to seven animals are known in Libya. They are generally not territorial animals, with home ranges of different groups often overlapping each other.\"\n",
        "Env = encrypt(M, P, Qb) #зашифрований конверт"
      ],
      "metadata": {
        "id": "b-k2bMyfNdV7"
      },
      "execution_count": 110,
      "outputs": []
    },
    {
      "cell_type": "code",
      "source": [
        "Mb = decrypt(Env, db) #повідомлення, яке розшифрував Боб"
      ],
      "metadata": {
        "id": "Y_DUEz6uVm6z"
      },
      "execution_count": 111,
      "outputs": []
    },
    {
      "cell_type": "code",
      "source": [
        "#перевірка коректності шифрування та розшифрування повідомлення\n",
        "print(M == Mb)"
      ],
      "metadata": {
        "id": "glI0Mc6-VwHp",
        "colab": {
          "base_uri": "https://localhost:8080/"
        },
        "outputId": "43f86522-80e4-45ab-e6e0-adffaf100f0b"
      },
      "execution_count": 112,
      "outputs": [
        {
          "output_type": "stream",
          "name": "stdout",
          "text": [
            "True\n"
          ]
        }
      ]
    },
    {
      "cell_type": "markdown",
      "source": [
        "### 3. Реалізувати схему цифрового підпису згідно алгоритму ECDSA та перевірити коректність."
      ],
      "metadata": {
        "id": "5MrnmaH8HpRA"
      }
    },
    {
      "cell_type": "code",
      "source": [
        "#геш-функція SHA-3 256\n",
        "def H(M, mod):\n",
        "  sha = hashlib.sha3_256()\n",
        "  sha.update(M)\n",
        "  return int(sha.hexdigest(), 16) % mod"
      ],
      "metadata": {
        "id": "qg1D66Y_VFRM"
      },
      "execution_count": 113,
      "outputs": []
    },
    {
      "cell_type": "code",
      "source": [
        "#підписання повідомлення\n",
        "def sign(M, P, da):\n",
        "  mod = int(n, 16)\n",
        "  h = H(M, mod)\n",
        "\n",
        "  r = 0\n",
        "  while r == 0:\n",
        "    k = random.randint(2, mod)\n",
        "    point = P.PointMultiply(k).ToAffine()\n",
        "    r = point.X % mod\n",
        "  s = (pow(k, -1, mod) * (h + da * r)) % mod\n",
        "\n",
        "  return r, s"
      ],
      "metadata": {
        "id": "L0WFbcDlHvAz"
      },
      "execution_count": 114,
      "outputs": []
    },
    {
      "cell_type": "code",
      "source": [
        "#перевірка підпису повідомлення\n",
        "def verify(M, r, s, Qa):\n",
        "  mod = int(n, 16)\n",
        "  h = H(M, mod)\n",
        "\n",
        "  u1 = (pow(s, -1, mod) * h) % mod\n",
        "  u2 = (pow(s, -1, mod) * r) % mod\n",
        "\n",
        "  point = P.PointMultiply(u1).PointAdd(Qa.PointMultiply(u2)).ToAffine()\n",
        "  v = point.X % mod\n",
        "\n",
        "  return v == r"
      ],
      "metadata": {
        "id": "0NWfR5zUMXkY"
      },
      "execution_count": 115,
      "outputs": []
    },
    {
      "cell_type": "code",
      "source": [
        "da, Qa = generate_keys(P) #ключі Аліси"
      ],
      "metadata": {
        "id": "hFRfZWhgMXp0"
      },
      "execution_count": 116,
      "outputs": []
    },
    {
      "cell_type": "code",
      "source": [
        "M = b\"The Machinist is a 2004 psychological thriller film directed by Brad Anderson and written by Scott Kosar. It stars Christian Bale as the title character, a machinist struggling with paranoia and delusion after being unable to sleep for an entire year.\"\n",
        "r, s = sign(M, P, da) #підпис повідомлення"
      ],
      "metadata": {
        "id": "K0dvyf_cMa6N"
      },
      "execution_count": 117,
      "outputs": []
    },
    {
      "cell_type": "code",
      "source": [
        "##перевірка коректності підписання повідомлення\n",
        "print(verify(M, r, s, Qa))"
      ],
      "metadata": {
        "colab": {
          "base_uri": "https://localhost:8080/"
        },
        "id": "F4-c1zZtUvX0",
        "outputId": "ece5041d-ee20-4d36-d490-fbc26b506203"
      },
      "execution_count": 118,
      "outputs": [
        {
          "output_type": "stream",
          "name": "stdout",
          "text": [
            "True\n"
          ]
        }
      ]
    }
  ]
}