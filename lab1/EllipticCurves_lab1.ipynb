{
  "nbformat": 4,
  "nbformat_minor": 0,
  "metadata": {
    "colab": {
      "provenance": [],
      "authorship_tag": "ABX9TyOr3Inva4fhzG+FmMTq4y5Z",
      "include_colab_link": true
    },
    "kernelspec": {
      "name": "python3",
      "display_name": "Python 3"
    },
    "language_info": {
      "name": "python"
    }
  },
  "cells": [
    {
      "cell_type": "markdown",
      "metadata": {
        "id": "view-in-github",
        "colab_type": "text"
      },
      "source": [
        "<a href=\"https://colab.research.google.com/github/AnastasiaZAYU/Elliptic-Curves/blob/main/lab1/EllipticCurves_lab1.ipynb\" target=\"_parent\"><img src=\"https://colab.research.google.com/assets/colab-badge.svg\" alt=\"Open In Colab\"/></a>"
      ]
    },
    {
      "cell_type": "markdown",
      "source": [
        "#Комп'ютерний практикум #1: Реалізація арифметики на еліптичних кривих"
      ],
      "metadata": {
        "id": "eETEVDxrmhHI"
      }
    },
    {
      "cell_type": "markdown",
      "source": [
        "### 1. Реалізувати бібліотеку функцій та типів для роботи з еліптичними кривими: тип даних \"Еліптична крива\" і тип даних \"Точка еліптичної кривої\"."
      ],
      "metadata": {
        "id": "kvB1OvMznDyY"
      }
    },
    {
      "cell_type": "code",
      "source": [
        "from EllipticCurve import *\n",
        "from CurvePoint import *"
      ],
      "metadata": {
        "id": "ukJagWZUYNgB"
      },
      "execution_count": 1,
      "outputs": []
    },
    {
      "cell_type": "markdown",
      "source": [
        "### Реалізувати тестову програму, що застосовує написані в п.1 функції для реалізації арифметики над еліптичною кривою P-224."
      ],
      "metadata": {
        "id": "wmjZaMQknlVF"
      }
    },
    {
      "cell_type": "code",
      "source": [
        "p = '0xffffffffffffffffffffffffffffffff000000000000000000000001'\n",
        "a = '0xfffffffffffffffffffffffffffffffefffffffffffffffffffffffe'\n",
        "b = '0xb4050a850c04b3abf54132565044b0b7d7bfd8ba270b39432355ffb4'\n",
        "n = '0xffffffffffffffffffffffffffff16a2e0b8f03e13dd29455c5c2a3d'"
      ],
      "metadata": {
        "id": "mCi8Xx3kuZIt"
      },
      "execution_count": 2,
      "outputs": []
    },
    {
      "cell_type": "code",
      "source": [
        "curve = EllipticCurve(p, a, b, n)"
      ],
      "metadata": {
        "id": "lQEONc_5vb-C"
      },
      "execution_count": 3,
      "outputs": []
    },
    {
      "cell_type": "code",
      "source": [
        "G = CurvePoint(curve, '0xb70e0cbd6bb4bf7f321390b94a03c1d356c21122343280d6115c1d21', '0xbd376388b5f723fb4c22dfe6cd4375a05a07476444d5819985007e34', '0x1')"
      ],
      "metadata": {
        "id": "4kIDjS-jyHq2"
      },
      "execution_count": 4,
      "outputs": []
    },
    {
      "cell_type": "code",
      "source": [
        "#тестування функції взаємного перетворення точки між афінними та проективними координатами\n",
        "print(G.ComparePoints(G.ToAffine().ToProjective()))"
      ],
      "metadata": {
        "colab": {
          "base_uri": "https://localhost:8080/"
        },
        "id": "wuVPEGxVqs2J",
        "outputId": "9a0c5fda-1404-4988-9632-2319b663f7c5"
      },
      "execution_count": 5,
      "outputs": [
        {
          "output_type": "stream",
          "name": "stdout",
          "text": [
            "True\n"
          ]
        }
      ]
    },
    {
      "cell_type": "code",
      "source": [
        "#тестування функції подвоєння точки\n",
        "G2_ = CurvePoint(curve, '0x706a46dc76dcb76798e60e6d89474788d16dc18032d268fd1a704fa6', '0x1c2b76a7bc25e7702a704fa986892849fca629487acf3709d2e4e8bb', '0x1') #істинне значення\n",
        "G2 = G.PointDouble()\n",
        "print(G2_.ComparePoints(G2))"
      ],
      "metadata": {
        "colab": {
          "base_uri": "https://localhost:8080/"
        },
        "id": "XFFTU7iFuNny",
        "outputId": "18ec7ec9-9703-4614-beed-3c12e4447a15"
      },
      "execution_count": 6,
      "outputs": [
        {
          "output_type": "stream",
          "name": "stdout",
          "text": [
            "True\n"
          ]
        }
      ]
    },
    {
      "cell_type": "code",
      "source": [
        "#тестування функції перевірки належності точки до кривої\n",
        "print(curve.IsOnCurve(G2.X, G2.Y, G2.Z)) #точка, що належить кривій\n",
        "print(curve.IsOnCurve(G2.X, G2.Y, G2.Z - 2)) #точка, що не належить кривій"
      ],
      "metadata": {
        "colab": {
          "base_uri": "https://localhost:8080/"
        },
        "id": "2JLK6p0CoM3f",
        "outputId": "3787233a-2dd5-4774-d6ba-6738e16003b3"
      },
      "execution_count": 7,
      "outputs": [
        {
          "output_type": "stream",
          "name": "stdout",
          "text": [
            "True\n",
            "False\n"
          ]
        }
      ]
    },
    {
      "cell_type": "code",
      "source": [
        "#тестування функцій додавання точок\n",
        "G3_ = CurvePoint(curve, '0xdf1b1d66a551d0d31eff822558b9d2cc75c2180279fe0d08fd896d04', '0xa3f7f03cadd0be444c0aa56830130ddf77d317344e1af3591981a925', '0x1') #істинне значення\n",
        "G3 = G.PointAdd(G2)\n",
        "print(G3_.ComparePoints(G3))"
      ],
      "metadata": {
        "colab": {
          "base_uri": "https://localhost:8080/"
        },
        "id": "ur7biV0UpAZB",
        "outputId": "bc977ede-d131-44bf-e537-dc8ea6e18a7b"
      },
      "execution_count": 8,
      "outputs": [
        {
          "output_type": "stream",
          "name": "stdout",
          "text": [
            "True\n"
          ]
        }
      ]
    },
    {
      "cell_type": "code",
      "source": [
        "#тестування функцій скалярного добутку\n",
        "G5_ = CurvePoint(curve, '0x31c49ae75bce7807cdff22055d94ee9021fedbb5ab51c57526f011aa', '0x27e8bff1745635ec5ba0c9f1c2ede15414c6507d29ffe37e790a079b', '0x1') #істинне значення\n",
        "G5 = G.PointMultiply(5)\n",
        "print(G5_.ComparePoints(G5))"
      ],
      "metadata": {
        "colab": {
          "base_uri": "https://localhost:8080/"
        },
        "id": "lLXy_Z5_vrw_",
        "outputId": "e4a24615-d5aa-4dfe-a956-8543a0c75a85"
      },
      "execution_count": 9,
      "outputs": [
        {
          "output_type": "stream",
          "name": "stdout",
          "text": [
            "True\n"
          ]
        }
      ]
    },
    {
      "cell_type": "markdown",
      "source": [
        "### 3. Згенерувати випадкову точку та перевірити, що виконується рівність nP = Oe."
      ],
      "metadata": {
        "id": "CIgzPYFJxOOx"
      }
    },
    {
      "cell_type": "code",
      "source": [
        "P = G.GenPoint()\n",
        "P.Print()"
      ],
      "metadata": {
        "colab": {
          "base_uri": "https://localhost:8080/"
        },
        "id": "SGMGYDJFy8Hk",
        "outputId": "ad67e9f5-9ae0-4a10-f229-244e48469d01"
      },
      "execution_count": 10,
      "outputs": [
        {
          "output_type": "stream",
          "name": "stdout",
          "text": [
            "(0x825f8d14849642236f4e711406a9664154b4fcfa0e43ace96e4c947c, 0x2b293bc64f9b2e4ce48153173399c6bdcdb1bcfb2ef29e1f6dcf1aa9, 0x1)\n"
          ]
        }
      ]
    },
    {
      "cell_type": "code",
      "source": [
        "Q = P.PointMultiply(P.curve.n)\n",
        "Q.Print()"
      ],
      "metadata": {
        "colab": {
          "base_uri": "https://localhost:8080/"
        },
        "id": "hyHJW5ytlxii",
        "outputId": "97dd86bf-126b-441b-9a36-d7962584a4c9"
      },
      "execution_count": 11,
      "outputs": [
        {
          "output_type": "stream",
          "name": "stdout",
          "text": [
            "(0x0, 0x1, 0x0)\n"
          ]
        }
      ]
    }
  ]
}