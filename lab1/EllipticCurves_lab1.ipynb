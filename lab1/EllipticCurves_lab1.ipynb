{
  "nbformat": 4,
  "nbformat_minor": 0,
  "metadata": {
    "colab": {
      "provenance": [],
      "include_colab_link": true
    },
    "kernelspec": {
      "name": "python3",
      "display_name": "Python 3"
    },
    "language_info": {
      "name": "python"
    }
  },
  "cells": [
    {
      "cell_type": "markdown",
      "metadata": {
        "id": "view-in-github",
        "colab_type": "text"
      },
      "source": [
        "<a href=\"https://colab.research.google.com/github/AnastasiaZAYU/Elliptic-Curves/blob/main/lab1/EllipticCurves_lab1.ipynb\" target=\"_parent\"><img src=\"https://colab.research.google.com/assets/colab-badge.svg\" alt=\"Open In Colab\"/></a>"
      ]
    },
    {
      "cell_type": "markdown",
      "source": [
        "#Комп'ютерний практикум #1: Реалізація арифметики на еліптичних кривих\n",
        "Посилання на репозиторій GitHub: https://github.com/AnastasiaZAYU/Elliptic-Curves/tree/main/lab1"
      ],
      "metadata": {
        "id": "eETEVDxrmhHI"
      }
    },
    {
      "cell_type": "markdown",
      "source": [
        "### 1. Реалізувати бібліотеку функцій та типів для роботи з еліптичними кривими: тип даних \"Еліптична крива\" і тип даних \"Точка еліптичної кривої\"."
      ],
      "metadata": {
        "id": "kvB1OvMznDyY"
      }
    },
    {
      "cell_type": "code",
      "source": [
        "from EllipticCurve import *\n",
        "from CurvePoint import *"
      ],
      "metadata": {
        "id": "ukJagWZUYNgB"
      },
      "execution_count": 1,
      "outputs": []
    },
    {
      "cell_type": "markdown",
      "source": [
        "### 2. Реалізувати тестову програму, що застосовує написані в п.1 функції для реалізації арифметики над еліптичною кривою P-224."
      ],
      "metadata": {
        "id": "wmjZaMQknlVF"
      }
    },
    {
      "cell_type": "code",
      "source": [
        "p = '0xffffffffffffffffffffffffffffffff000000000000000000000001'\n",
        "a = '0xfffffffffffffffffffffffffffffffefffffffffffffffffffffffe'\n",
        "b = '0xb4050a850c04b3abf54132565044b0b7d7bfd8ba270b39432355ffb4'\n",
        "n = '0xffffffffffffffffffffffffffff16a2e0b8f03e13dd29455c5c2a3d'"
      ],
      "metadata": {
        "id": "mCi8Xx3kuZIt"
      },
      "execution_count": 2,
      "outputs": []
    },
    {
      "cell_type": "code",
      "source": [
        "curve = EllipticCurve(p, a, b, n)"
      ],
      "metadata": {
        "id": "lQEONc_5vb-C"
      },
      "execution_count": 3,
      "outputs": []
    },
    {
      "cell_type": "code",
      "source": [
        "G = CurvePoint(curve, '0xb70e0cbd6bb4bf7f321390b94a03c1d356c21122343280d6115c1d21', '0xbd376388b5f723fb4c22dfe6cd4375a05a07476444d5819985007e34', '0x1')"
      ],
      "metadata": {
        "id": "4kIDjS-jyHq2"
      },
      "execution_count": 4,
      "outputs": []
    },
    {
      "cell_type": "code",
      "source": [
        "#тестування функції взаємного перетворення точки між афінними та проективними координатами\n",
        "print(G.ComparePoints(G.ToAffine().ToProjective()))"
      ],
      "metadata": {
        "colab": {
          "base_uri": "https://localhost:8080/"
        },
        "id": "wuVPEGxVqs2J",
        "outputId": "24747068-2c6d-41e8-da01-a4d5cadcf305"
      },
      "execution_count": 5,
      "outputs": [
        {
          "output_type": "stream",
          "name": "stdout",
          "text": [
            "True\n"
          ]
        }
      ]
    },
    {
      "cell_type": "code",
      "source": [
        "#тестування функції подвоєння точки\n",
        "G2_ = CurvePoint(curve, '0x706a46dc76dcb76798e60e6d89474788d16dc18032d268fd1a704fa6', '0x1c2b76a7bc25e7702a704fa986892849fca629487acf3709d2e4e8bb', '0x1') #істинне значення\n",
        "G2 = G.PointDouble()\n",
        "print(G2_.ComparePoints(G2))"
      ],
      "metadata": {
        "colab": {
          "base_uri": "https://localhost:8080/"
        },
        "id": "XFFTU7iFuNny",
        "outputId": "b99113b9-236a-4d8a-cb8d-d3f55c01216d"
      },
      "execution_count": 6,
      "outputs": [
        {
          "output_type": "stream",
          "name": "stdout",
          "text": [
            "True\n"
          ]
        }
      ]
    },
    {
      "cell_type": "code",
      "source": [
        "#тестування функції перевірки належності точки до кривої\n",
        "print(curve.IsOnCurve(G2.X, G2.Y, G2.Z)) #точка, що належить кривій\n",
        "print(curve.IsOnCurve(G2.X, G2.Y, G2.Z - 2)) #точка, що не належить кривій"
      ],
      "metadata": {
        "colab": {
          "base_uri": "https://localhost:8080/"
        },
        "id": "2JLK6p0CoM3f",
        "outputId": "e3d95803-0ddf-4635-c8d3-b457b83cf8db"
      },
      "execution_count": 7,
      "outputs": [
        {
          "output_type": "stream",
          "name": "stdout",
          "text": [
            "True\n",
            "False\n"
          ]
        }
      ]
    },
    {
      "cell_type": "code",
      "source": [
        "#тестування функцій додавання точок\n",
        "G3_ = CurvePoint(curve, '0xdf1b1d66a551d0d31eff822558b9d2cc75c2180279fe0d08fd896d04', '0xa3f7f03cadd0be444c0aa56830130ddf77d317344e1af3591981a925', '0x1') #істинне значення\n",
        "G3 = G.PointAdd(G2)\n",
        "print(G3_.ComparePoints(G3))"
      ],
      "metadata": {
        "colab": {
          "base_uri": "https://localhost:8080/"
        },
        "id": "ur7biV0UpAZB",
        "outputId": "b92b0df9-dd84-4001-df7d-e85526014715"
      },
      "execution_count": 8,
      "outputs": [
        {
          "output_type": "stream",
          "name": "stdout",
          "text": [
            "True\n"
          ]
        }
      ]
    },
    {
      "cell_type": "code",
      "source": [
        "#тестування функцій скалярного добутку\n",
        "G5_ = CurvePoint(curve, '0x31c49ae75bce7807cdff22055d94ee9021fedbb5ab51c57526f011aa', '0x27e8bff1745635ec5ba0c9f1c2ede15414c6507d29ffe37e790a079b', '0x1') #істинне значення\n",
        "G5 = G.PointMultiply(5)\n",
        "print(G5_.ComparePoints(G5))"
      ],
      "metadata": {
        "colab": {
          "base_uri": "https://localhost:8080/"
        },
        "id": "lLXy_Z5_vrw_",
        "outputId": "39a3582f-b358-490c-f125-bc5cbe5078c3"
      },
      "execution_count": 9,
      "outputs": [
        {
          "output_type": "stream",
          "name": "stdout",
          "text": [
            "True\n"
          ]
        }
      ]
    },
    {
      "cell_type": "markdown",
      "source": [
        "### 3. Згенерувати випадкову точку та перевірити, що виконується рівність nP = Oe."
      ],
      "metadata": {
        "id": "CIgzPYFJxOOx"
      }
    },
    {
      "cell_type": "code",
      "source": [
        "P = G.GenPoint()\n",
        "P.Print()"
      ],
      "metadata": {
        "colab": {
          "base_uri": "https://localhost:8080/"
        },
        "id": "SGMGYDJFy8Hk",
        "outputId": "37535001-def2-46f9-9492-084eaf653a49"
      },
      "execution_count": 10,
      "outputs": [
        {
          "output_type": "stream",
          "name": "stdout",
          "text": [
            "(0x3050c43ae0a885a5cd1a9b9add0e51cfbfaf2fd314565dfbbe635b98, 0x9be224e9c36db7439a871081081c01139c2ccab9ae35e40d789d690c, 0xc96fc78bdc67e85363655a0451594658194f191dc1ce7ece7f7ab32c)\n"
          ]
        }
      ]
    },
    {
      "cell_type": "code",
      "source": [
        "Q = P.PointMultiply(P.curve.n)\n",
        "Q.Print()"
      ],
      "metadata": {
        "colab": {
          "base_uri": "https://localhost:8080/"
        },
        "id": "hyHJW5ytlxii",
        "outputId": "405e696e-8dca-4ce8-a771-c3545dafa4d9"
      },
      "execution_count": 11,
      "outputs": [
        {
          "output_type": "stream",
          "name": "stdout",
          "text": [
            "(0x0, 0x1, 0x0)\n"
          ]
        }
      ]
    }
  ]
}